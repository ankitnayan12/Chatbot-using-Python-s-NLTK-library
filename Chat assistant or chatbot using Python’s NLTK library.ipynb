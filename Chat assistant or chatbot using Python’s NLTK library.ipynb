{
 "cells": [
  {
   "cell_type": "markdown",
   "metadata": {},
   "source": [
    "# In order to successfully build a conversational engine, it should take care of the following things:\n",
    "# 1. Understand who is the target audience\n",
    "# 2. Understand the Natural Language of the communication.\n",
    "# 3. Understand the intent or desire of the user\n",
    "# 4. provide responses that can answer the user"
   ]
  },
  {
   "cell_type": "markdown",
   "metadata": {},
   "source": [
    "# Reflections: \n",
    "This is a dictionary that contains a set of input values and its corresponding output values. It is an optional dictionary that you can use. You can also create your own dictionary in the same format as below and use it in your code. If you check nltk.chat.util, you will see its values as below:"
   ]
  },
  {
   "cell_type": "code",
   "execution_count": 8,
   "metadata": {},
   "outputs": [],
   "source": [
    "reflections = {\n",
    "  \"i am\"       : \"you are\",\n",
    "  \"i was\"      : \"you were\",\n",
    "  \"i\"          : \"you\",\n",
    "  \"i'm\"        : \"you are\",\n",
    "  \"i'd\"        : \"you would\",\n",
    "  \"i've\"       : \"you have\",\n",
    "  \"i'll\"       : \"you will\",\n",
    "  \"my\"         : \"your\",\n",
    "  \"you are\"    : \"I am\",\n",
    "  \"you were\"   : \"I was\",\n",
    "  \"you've\"     : \"I have\",\n",
    "  \"you'll\"     : \"I will\",\n",
    "  \"your\"       : \"my\",\n",
    "  \"yours\"      : \"mine\",\n",
    "  \"you\"        : \"me\",\n",
    "  \"me\"         : \"you\"\n",
    "}"
   ]
  },
  {
   "cell_type": "markdown",
   "metadata": {},
   "source": [
    "You can also create your own reflections dictionary in the same format as above and use it in your code. Here is an example for this:"
   ]
  },
  {
   "cell_type": "code",
   "execution_count": 9,
   "metadata": {},
   "outputs": [],
   "source": [
    "my_dummy_reflections= {\n",
    "    \"go\"     : \"gone\",\n",
    "    \"hello\"    : \"hey there\"\n",
    "}"
   ]
  },
  {
   "cell_type": "code",
   "execution_count": null,
   "metadata": {},
   "outputs": [],
   "source": [
    "#NLTK has a module, nltk.chat, which simplifies building these engines by providing a generic framework"
   ]
  },
  {
   "cell_type": "code",
   "execution_count": 10,
   "metadata": {},
   "outputs": [],
   "source": [
    "from nltk.chat.util import Chat, reflections"
   ]
  },
  {
   "cell_type": "code",
   "execution_count": 12,
   "metadata": {},
   "outputs": [],
   "source": [
    "pairs = [\n",
    "    [r\"my name is (.*)\",[\"Hello %1, How are you today ?\",]],\n",
    "    [r\"what is your name ?\",[\"My name is Chatty and I'm a chatbot ?\",]],\n",
    "    [r\"how are you ?\",[\"I'm doing good\\nHow about You ?\",]],\n",
    "    [r\"sorry (.*)\",[\"Its alright\",\"Its OK, never mind\",]],\n",
    "    [r\"i'm (.*) doing good\",[\"Nice to hear that\",\"Alright :)\",]],\n",
    "    [r\"hi|hey|hello\",[\"Hello\", \"Hey there\",]],\n",
    "    [r\"(.*) age?\",[\"I'm a computer program dude\\nSeriously you are asking me this?\",]],\n",
    "    [r\"what (.*) want ?\",[\"Make me an offer I can't refuse\",]],\n",
    "    [r\"(.*) created ?\",[\"Nagesh created me using Python's NLTK library \",\"top secret ;)\",]],\n",
    "    [r\"(.*) (location|city) ?\",['Chennai, Tamil Nadu',]],\n",
    "    [r\"how is weather in (.*)?\",[\"Weather in %1 is awesome like always\",\"Too hot man here in %1\",\"Too cold man here in %1\",\"Never even heard about %1\"]],\n",
    "    [r\"i work in (.*)?\",[\"%1 is an Amazing company, I have heard about it. But they are in huge loss these days.\",]],\n",
    "    [r\"(.*)raining in (.*)\",[\"No rain since last week here in %2\",\"Damn its raining too much here in %2\"]],\n",
    "    [r\"how (.*) health(.*)\",[\"I'm a computer program, so I'm always healthy \",]],\n",
    "    [r\"(.*) (sports|game) ?\",[\"I'm a very big fan of Football\",]],\n",
    "    [r\"who (.*) sportsperson ?\",[\"Messy\",\"Ronaldo\",\"Roony\"]],\n",
    "    [r\"who (.*) (moviestar|actor)?\",[\"Brad Pitt\"]],\n",
    "    [r\"quit\",[\"BBye take care. See you soon :) \",\"It was nice talking to you. See you soon :)\"]],\n",
    "]\n"
   ]
  },
  {
   "cell_type": "code",
   "execution_count": 13,
   "metadata": {},
   "outputs": [],
   "source": [
    "chat = Chat(pairs, my_dummy_reflections)"
   ]
  },
  {
   "cell_type": "code",
   "execution_count": 14,
   "metadata": {},
   "outputs": [
    {
     "name": "stdout",
     "output_type": "stream",
     "text": [
      "Hi, I'm Chatty and I chat alot ;)\n",
      "Please type lowercase English language to start a conversation. Type quit to leave \n",
      ">-hi\n",
      "None\n",
      ">hello\n",
      "Hello\n",
      ">how are you?\n",
      "I'm doing good\n",
      "How about You ?\n",
      ">me as well\n",
      "None\n",
      ">movie  star\n",
      "None\n",
      ">movie star\n",
      "None\n",
      ">moviestar\n",
      "None\n",
      ">what is your age\n",
      "I'm a computer program dude\n",
      "Seriously you are asking me this?\n",
      ">who is your favorite actor\n",
      "Brad Pitt\n",
      ">quit\n",
      "It was nice talking to you. See you soon :)\n"
     ]
    }
   ],
   "source": [
    "def chatty():\n",
    "    print(\"Hi, I'm Chatty and I chat alot ;)\\nPlease type lowercase English language to start a conversation. Type quit to leave \") #default message at the start\n",
    "    chat = Chat(pairs, reflections)\n",
    "    chat.converse()\n",
    "\n",
    "if __name__ == \"__main__\":\n",
    "    chatty()"
   ]
  },
  {
   "cell_type": "code",
   "execution_count": 15,
   "metadata": {},
   "outputs": [
    {
     "name": "stdout",
     "output_type": "stream",
     "text": [
      ">hello\n",
      "Hey there\n",
      ">quit\n",
      "It was nice talking to you. See you soon :)\n"
     ]
    }
   ],
   "source": [
    "chat.converse()"
   ]
  },
  {
   "cell_type": "markdown",
   "metadata": {},
   "source": [
    "The nltk.chat chatbots work on the regex of keywords present in your question. So you can add any number of questions in a proper format so that your chatbot doesn’t get confused in determining the regex.\n",
    "In this blog I have explained in simple steps as to how you can build your own chatbot using NLTK and of course its not an intelligent one."
   ]
  },
  {
   "cell_type": "code",
   "execution_count": null,
   "metadata": {},
   "outputs": [],
   "source": []
  }
 ],
 "metadata": {
  "kernelspec": {
   "display_name": "Python 3",
   "language": "python",
   "name": "python3"
  },
  "language_info": {
   "codemirror_mode": {
    "name": "ipython",
    "version": 3
   },
   "file_extension": ".py",
   "mimetype": "text/x-python",
   "name": "python",
   "nbconvert_exporter": "python",
   "pygments_lexer": "ipython3",
   "version": "3.7.3"
  }
 },
 "nbformat": 4,
 "nbformat_minor": 2
}
